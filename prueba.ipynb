{
 "cells": [
  {
   "cell_type": "code",
   "execution_count": 2,
   "metadata": {},
   "outputs": [],
   "source": [
    "import os\n",
    "from dotenv import load_dotenv\n",
    "\n",
    "load_dotenv()\n",
    "\n",
    "os.environ[\"OPENAI_API_KEY\"] = os.getenv('OPENAI_API_KEY')\n",
    "os.environ[\"FIREWORKS_API_KEY\"] = os.getenv('FIREWORKS_API_KEY')\n",
    "MONGO_URI= os.getenv('MONGO_URI')"
   ]
  },
  {
   "cell_type": "code",
   "execution_count": 4,
   "metadata": {},
   "outputs": [
    {
     "name": "stderr",
     "output_type": "stream",
     "text": [
      "f:\\GitHub\\agent_with_memory\\myenv\\lib\\site-packages\\tqdm\\auto.py:21: TqdmWarning: IProgress not found. Please update jupyter and ipywidgets. See https://ipywidgets.readthedocs.io/en/stable/user_install.html\n",
      "  from .autonotebook import tqdm as notebook_tqdm\n",
      "Downloading readme: 100%|██████████| 701/701 [00:00<?, ?B/s] \n",
      "Repo card metadata block was not found. Setting CardData to empty.\n",
      "Downloading data: 100%|██████████| 102M/102M [00:02<00:00, 34.1MB/s] \n",
      "Generating train split: 50000 examples [00:02, 20161.30 examples/s]\n"
     ]
    }
   ],
   "source": [
    "\n",
    "import pandas as pd\n",
    "from datasets import load_dataset\n",
    "\n",
    "data = load_dataset(\"MongoDB/subset_arxiv_papers_with_emebeddings\")\n",
    "dataset_df = pd.DataFrame(data[\"train\"])"
   ]
  },
  {
   "cell_type": "code",
   "execution_count": 5,
   "metadata": {},
   "outputs": [
    {
     "name": "stdout",
     "output_type": "stream",
     "text": [
      "50000\n"
     ]
    },
    {
     "data": {
      "text/html": [
       "<div>\n",
       "<style scoped>\n",
       "    .dataframe tbody tr th:only-of-type {\n",
       "        vertical-align: middle;\n",
       "    }\n",
       "\n",
       "    .dataframe tbody tr th {\n",
       "        vertical-align: top;\n",
       "    }\n",
       "\n",
       "    .dataframe thead th {\n",
       "        text-align: right;\n",
       "    }\n",
       "</style>\n",
       "<table border=\"1\" class=\"dataframe\">\n",
       "  <thead>\n",
       "    <tr style=\"text-align: right;\">\n",
       "      <th></th>\n",
       "      <th>id</th>\n",
       "      <th>submitter</th>\n",
       "      <th>authors</th>\n",
       "      <th>title</th>\n",
       "      <th>comments</th>\n",
       "      <th>journal-ref</th>\n",
       "      <th>doi</th>\n",
       "      <th>report-no</th>\n",
       "      <th>categories</th>\n",
       "      <th>license</th>\n",
       "      <th>abstract</th>\n",
       "      <th>versions</th>\n",
       "      <th>update_date</th>\n",
       "      <th>authors_parsed</th>\n",
       "      <th>embedding</th>\n",
       "    </tr>\n",
       "  </thead>\n",
       "  <tbody>\n",
       "    <tr>\n",
       "      <th>0</th>\n",
       "      <td>704.0001</td>\n",
       "      <td>Pavel Nadolsky</td>\n",
       "      <td>C. Bal\\'azs, E. L. Berger, P. M. Nadolsky, C.-...</td>\n",
       "      <td>Calculation of prompt diphoton production cros...</td>\n",
       "      <td>37 pages, 15 figures; published version</td>\n",
       "      <td>Phys.Rev.D76:013009,2007</td>\n",
       "      <td>10.1103/PhysRevD.76.013009</td>\n",
       "      <td>ANL-HEP-PR-07-12</td>\n",
       "      <td>hep-ph</td>\n",
       "      <td>None</td>\n",
       "      <td>A fully differential calculation in perturba...</td>\n",
       "      <td>[{'version': 'v1', 'created': 'Mon, 2 Apr 2007...</td>\n",
       "      <td>2008-11-26</td>\n",
       "      <td>[[Balázs, C., ], [Berger, E. L., ], [Nadolsky,...</td>\n",
       "      <td>[0.0594153292, -0.0440569334, -0.0487333685, -...</td>\n",
       "    </tr>\n",
       "    <tr>\n",
       "      <th>1</th>\n",
       "      <td>704.0002</td>\n",
       "      <td>Louis Theran</td>\n",
       "      <td>Ileana Streinu and Louis Theran</td>\n",
       "      <td>Sparsity-certifying Graph Decompositions</td>\n",
       "      <td>To appear in Graphs and Combinatorics</td>\n",
       "      <td>None</td>\n",
       "      <td>None</td>\n",
       "      <td>None</td>\n",
       "      <td>math.CO cs.CG</td>\n",
       "      <td>http://arxiv.org/licenses/nonexclusive-distrib...</td>\n",
       "      <td>We describe a new algorithm, the $(k,\\ell)$-...</td>\n",
       "      <td>[{'version': 'v1', 'created': 'Sat, 31 Mar 200...</td>\n",
       "      <td>2008-12-13</td>\n",
       "      <td>[[Streinu, Ileana, ], [Theran, Louis, ]]</td>\n",
       "      <td>[0.0247399714, -0.065658465, 0.0201423876, -0....</td>\n",
       "    </tr>\n",
       "    <tr>\n",
       "      <th>2</th>\n",
       "      <td>704.0003</td>\n",
       "      <td>Hongjun Pan</td>\n",
       "      <td>Hongjun Pan</td>\n",
       "      <td>The evolution of the Earth-Moon system based o...</td>\n",
       "      <td>23 pages, 3 figures</td>\n",
       "      <td>None</td>\n",
       "      <td>None</td>\n",
       "      <td>None</td>\n",
       "      <td>physics.gen-ph</td>\n",
       "      <td>None</td>\n",
       "      <td>The evolution of Earth-Moon system is descri...</td>\n",
       "      <td>[{'version': 'v1', 'created': 'Sun, 1 Apr 2007...</td>\n",
       "      <td>2008-01-13</td>\n",
       "      <td>[[Pan, Hongjun, ]]</td>\n",
       "      <td>[0.0491479263, 0.0728017688, 0.0604138002, 0.0...</td>\n",
       "    </tr>\n",
       "    <tr>\n",
       "      <th>3</th>\n",
       "      <td>704.0004</td>\n",
       "      <td>David Callan</td>\n",
       "      <td>David Callan</td>\n",
       "      <td>A determinant of Stirling cycle numbers counts...</td>\n",
       "      <td>11 pages</td>\n",
       "      <td>None</td>\n",
       "      <td>None</td>\n",
       "      <td>None</td>\n",
       "      <td>math.CO</td>\n",
       "      <td>None</td>\n",
       "      <td>We show that a determinant of Stirling cycle...</td>\n",
       "      <td>[{'version': 'v1', 'created': 'Sat, 31 Mar 200...</td>\n",
       "      <td>2007-05-23</td>\n",
       "      <td>[[Callan, David, ]]</td>\n",
       "      <td>[0.0389556214, -0.0410280302, 0.0410280302, -0...</td>\n",
       "    </tr>\n",
       "    <tr>\n",
       "      <th>4</th>\n",
       "      <td>704.0005</td>\n",
       "      <td>Alberto Torchinsky</td>\n",
       "      <td>Wael Abu-Shammala and Alberto Torchinsky</td>\n",
       "      <td>From dyadic $\\Lambda_{\\alpha}$ to $\\Lambda_{\\a...</td>\n",
       "      <td>None</td>\n",
       "      <td>Illinois J. Math. 52 (2008) no.2, 681-689</td>\n",
       "      <td>None</td>\n",
       "      <td>None</td>\n",
       "      <td>math.CA math.FA</td>\n",
       "      <td>None</td>\n",
       "      <td>In this paper we show how to compute the $\\L...</td>\n",
       "      <td>[{'version': 'v1', 'created': 'Mon, 2 Apr 2007...</td>\n",
       "      <td>2013-10-15</td>\n",
       "      <td>[[Abu-Shammala, Wael, ], [Torchinsky, Alberto, ]]</td>\n",
       "      <td>[0.118412666, -0.0127423415, 0.1185125113, 0.0...</td>\n",
       "    </tr>\n",
       "  </tbody>\n",
       "</table>\n",
       "</div>"
      ],
      "text/plain": [
       "         id           submitter  \\\n",
       "0  704.0001      Pavel Nadolsky   \n",
       "1  704.0002        Louis Theran   \n",
       "2  704.0003         Hongjun Pan   \n",
       "3  704.0004        David Callan   \n",
       "4  704.0005  Alberto Torchinsky   \n",
       "\n",
       "                                             authors  \\\n",
       "0  C. Bal\\'azs, E. L. Berger, P. M. Nadolsky, C.-...   \n",
       "1                    Ileana Streinu and Louis Theran   \n",
       "2                                        Hongjun Pan   \n",
       "3                                       David Callan   \n",
       "4           Wael Abu-Shammala and Alberto Torchinsky   \n",
       "\n",
       "                                               title  \\\n",
       "0  Calculation of prompt diphoton production cros...   \n",
       "1           Sparsity-certifying Graph Decompositions   \n",
       "2  The evolution of the Earth-Moon system based o...   \n",
       "3  A determinant of Stirling cycle numbers counts...   \n",
       "4  From dyadic $\\Lambda_{\\alpha}$ to $\\Lambda_{\\a...   \n",
       "\n",
       "                                  comments  \\\n",
       "0  37 pages, 15 figures; published version   \n",
       "1    To appear in Graphs and Combinatorics   \n",
       "2                      23 pages, 3 figures   \n",
       "3                                 11 pages   \n",
       "4                                     None   \n",
       "\n",
       "                                 journal-ref                         doi  \\\n",
       "0                   Phys.Rev.D76:013009,2007  10.1103/PhysRevD.76.013009   \n",
       "1                                       None                        None   \n",
       "2                                       None                        None   \n",
       "3                                       None                        None   \n",
       "4  Illinois J. Math. 52 (2008) no.2, 681-689                        None   \n",
       "\n",
       "          report-no       categories  \\\n",
       "0  ANL-HEP-PR-07-12           hep-ph   \n",
       "1              None    math.CO cs.CG   \n",
       "2              None   physics.gen-ph   \n",
       "3              None          math.CO   \n",
       "4              None  math.CA math.FA   \n",
       "\n",
       "                                             license  \\\n",
       "0                                               None   \n",
       "1  http://arxiv.org/licenses/nonexclusive-distrib...   \n",
       "2                                               None   \n",
       "3                                               None   \n",
       "4                                               None   \n",
       "\n",
       "                                            abstract  \\\n",
       "0    A fully differential calculation in perturba...   \n",
       "1    We describe a new algorithm, the $(k,\\ell)$-...   \n",
       "2    The evolution of Earth-Moon system is descri...   \n",
       "3    We show that a determinant of Stirling cycle...   \n",
       "4    In this paper we show how to compute the $\\L...   \n",
       "\n",
       "                                            versions update_date  \\\n",
       "0  [{'version': 'v1', 'created': 'Mon, 2 Apr 2007...  2008-11-26   \n",
       "1  [{'version': 'v1', 'created': 'Sat, 31 Mar 200...  2008-12-13   \n",
       "2  [{'version': 'v1', 'created': 'Sun, 1 Apr 2007...  2008-01-13   \n",
       "3  [{'version': 'v1', 'created': 'Sat, 31 Mar 200...  2007-05-23   \n",
       "4  [{'version': 'v1', 'created': 'Mon, 2 Apr 2007...  2013-10-15   \n",
       "\n",
       "                                      authors_parsed  \\\n",
       "0  [[Balázs, C., ], [Berger, E. L., ], [Nadolsky,...   \n",
       "1           [[Streinu, Ileana, ], [Theran, Louis, ]]   \n",
       "2                                 [[Pan, Hongjun, ]]   \n",
       "3                                [[Callan, David, ]]   \n",
       "4  [[Abu-Shammala, Wael, ], [Torchinsky, Alberto, ]]   \n",
       "\n",
       "                                           embedding  \n",
       "0  [0.0594153292, -0.0440569334, -0.0487333685, -...  \n",
       "1  [0.0247399714, -0.065658465, 0.0201423876, -0....  \n",
       "2  [0.0491479263, 0.0728017688, 0.0604138002, 0.0...  \n",
       "3  [0.0389556214, -0.0410280302, 0.0410280302, -0...  \n",
       "4  [0.118412666, -0.0127423415, 0.1185125113, 0.0...  "
      ]
     },
     "execution_count": 5,
     "metadata": {},
     "output_type": "execute_result"
    }
   ],
   "source": [
    "print(len(dataset_df))\n",
    "dataset_df.head()"
   ]
  },
  {
   "cell_type": "code",
   "execution_count": 3,
   "metadata": {},
   "outputs": [],
   "source": [
    "\n",
    "from pymongo import MongoClient\n",
    "\n",
    "# Initialize MongoDB python client\n",
    "client = MongoClient(MONGO_URI)\n",
    "\n",
    "DB_NAME = \"agent-memory\"\n",
    "COLLECTION_NAME = \"knowledge\"\n",
    "ATLAS_VECTOR_SEARCH_INDEX_NAME = \"vector_index\"\n",
    "collection = client[DB_NAME][COLLECTION_NAME]"
   ]
  },
  {
   "cell_type": "code",
   "execution_count": 4,
   "metadata": {},
   "outputs": [],
   "source": [
    "\n",
    "# # Delete any existing records in the collection\n",
    "# collection.delete_many({})\n",
    "\n",
    "# # Data Ingestion\n",
    "# records = dataset_df.to_dict('records')\n",
    "# collection.insert_many(records)\n",
    "\n",
    "# print(\"Data ingestion into MongoDB completed\")"
   ]
  },
  {
   "cell_type": "code",
   "execution_count": 6,
   "metadata": {},
   "outputs": [],
   "source": [
    "\n",
    "from langchain_openai import OpenAIEmbeddings\n",
    "from langchain_mongodb import MongoDBAtlasVectorSearch\n",
    "\n",
    "embedding_model = OpenAIEmbeddings(model=\"text-embedding-3-small\", dimensions=256)\n",
    "\n",
    "# Vector Store Creation\n",
    "vector_store = MongoDBAtlasVectorSearch.from_connection_string(\n",
    "    connection_string=MONGO_URI,\n",
    "    namespace=DB_NAME + \".\" + COLLECTION_NAME,\n",
    "    embedding= embedding_model,\n",
    "    index_name=ATLAS_VECTOR_SEARCH_INDEX_NAME,\n",
    "    text_key=\"abstract\"\n",
    ")\n",
    "\n",
    "retriever = vector_store.as_retriever(search_type=\"similarity\", search_kwargs={\"k\": 5})"
   ]
  },
  {
   "cell_type": "code",
   "execution_count": 7,
   "metadata": {},
   "outputs": [],
   "source": [
    "\n",
    "from langchain_openai import ChatOpenAI, OpenAI\n",
    "from langchain_fireworks import Fireworks, ChatFireworks\n",
    "\n",
    "# llm = ChatFireworks(\n",
    "#     model=\"accounts/fireworks/models/firefunction-v1\",\n",
    "#     max_tokens=256)\n",
    "\n",
    "llm = ChatOpenAI()"
   ]
  },
  {
   "cell_type": "markdown",
   "metadata": {},
   "source": [
    "# Agent "
   ]
  },
  {
   "cell_type": "code",
   "execution_count": 8,
   "metadata": {},
   "outputs": [],
   "source": [
    "from langchain.agents import tool, Tool\n",
    "from langchain_community.utilities import GoogleSearchAPIWrapper\n",
    "from langchain_community.document_loaders import ArxivLoader\n",
    "from langchain.tools.retriever import create_retriever_tool\n",
    "from langchain_community.tools.tavily_search import TavilySearchResults\n",
    "\n",
    "# Custom Tool Definiton\n",
    "@tool\n",
    "def get_metadata_information_from_arxiv(word: str) -> list:\n",
    "  \"\"\"\n",
    "  Fetches and returns metadata for a maximum of ten documents from arXiv matching the given query word.\n",
    "\n",
    "  Args:\n",
    "    word (str): The search query to find relevant documents on arXiv.\n",
    "\n",
    "  Returns:\n",
    "    list: Metadata about the documents matching the query.\n",
    "  \"\"\"\n",
    "  docs = ArxivLoader(query=word, load_max_docs=10).load()\n",
    "  # Extract just the metadata from each document\n",
    "  metadata_list = [doc.metadata for doc in docs]\n",
    "  return metadata_list\n",
    "\n",
    "\n",
    "@tool\n",
    "def get_information_from_arxiv(word: str) -> list:\n",
    "  \"\"\"\n",
    "  Fetches and returns metadata for a single research paper from arXiv matching the given query word, which is the ID of the paper, for example: 704.0001.\n",
    "\n",
    "  Args:\n",
    "    word (str): The search query to find the relevant paper on arXiv using the ID.\n",
    "\n",
    "  Returns:\n",
    "    list: Data about the paper matching the query.\n",
    "  \"\"\"\n",
    "  doc = ArxivLoader(query=word, load_max_docs=1).load()\n",
    "  return doc\n",
    "\n",
    "\n",
    "retriever_tool = create_retriever_tool(\n",
    "    retriever=retriever,\n",
    "    name=\"knowledge_base\",\n",
    "    description=\"This serves as the base knowledge source of the agent and contains some records of research papers from Arxiv. This tool is used as the first step for exploration and reseach efforts.\"\n",
    ")"
   ]
  },
  {
   "cell_type": "code",
   "execution_count": 9,
   "metadata": {},
   "outputs": [],
   "source": [
    "tools = [retriever_tool, get_metadata_information_from_arxiv, get_information_from_arxiv]\n"
   ]
  },
  {
   "cell_type": "code",
   "execution_count": 23,
   "metadata": {},
   "outputs": [],
   "source": [
    "\n",
    "from langchain_core.prompts import ChatPromptTemplate, MessagesPlaceholder\n",
    "\n",
    "agent_purpose = \"You are a helpful research assistant\"\n",
    "\n",
    "prompt = ChatPromptTemplate.from_messages(\n",
    "    [\n",
    "        (\"system\", agent_purpose),\n",
    "        # MessagesPlaceholder(\n",
    "        #     variable_name=\"chat_history\"\n",
    "        # ),\n",
    "        MessagesPlaceholder(variable_name=\"chat_history\"),\n",
    "        (\"human\", \"{input}\"),\n",
    "        MessagesPlaceholder(variable_name=\"agent_scratchpad\")\n",
    "    ]\n",
    ")"
   ]
  },
  {
   "cell_type": "markdown",
   "metadata": {},
   "source": [
    "# Agent Memory Using MongoDB\n"
   ]
  },
  {
   "cell_type": "code",
   "execution_count": 24,
   "metadata": {},
   "outputs": [],
   "source": [
    "\n",
    "from langchain_mongodb.chat_message_histories import MongoDBChatMessageHistory\n",
    "from langchain.memory import ConversationBufferMemory\n",
    "\n",
    "def get_session_history(session_id: str) -> MongoDBChatMessageHistory:\n",
    "        return MongoDBChatMessageHistory(MONGO_URI, session_id, database_name=DB_NAME, collection_name=\"history\")\n",
    "\n",
    "# memory = ConversationBufferMemory(\n",
    "#     memory_key=\"chat_history\",\n",
    "#     chat_memory=get_session_history(\"my-session\")\n",
    "# )"
   ]
  },
  {
   "cell_type": "code",
   "execution_count": 26,
   "metadata": {},
   "outputs": [],
   "source": [
    "history_obj = get_session_history(\"my-session\")"
   ]
  },
  {
   "cell_type": "markdown",
   "metadata": {},
   "source": [
    "# Agent Creation"
   ]
  },
  {
   "cell_type": "code",
   "execution_count": 28,
   "metadata": {},
   "outputs": [],
   "source": [
    "from langchain.agents import AgentExecutor, create_tool_calling_agent\n",
    "\n",
    "agent = create_tool_calling_agent(llm, tools, prompt)\n",
    "\n",
    "agent_executor = AgentExecutor(\n",
    "    agent=agent,\n",
    "    tools=tools,\n",
    "    verbose=True,\n",
    "    handle_parsing_errors=True,\n",
    "    # memory=memory,\n",
    ")\n",
    "   "
   ]
  },
  {
   "cell_type": "code",
   "execution_count": 31,
   "metadata": {},
   "outputs": [
    {
     "name": "stdout",
     "output_type": "stream",
     "text": [
      "\n",
      "\n",
      "\u001b[1m> Entering new AgentExecutor chain...\u001b[0m\n",
      "\u001b[32;1m\u001b[1;3mHello Damian! How can I assist you today?\u001b[0m\n",
      "\n",
      "\u001b[1m> Finished chain.\u001b[0m\n"
     ]
    }
   ],
   "source": [
    "# human_message = \"hellou mi name is damian\"\n",
    "# response = agent_executor.invoke({\"input\": human_message, \"chat_history\": history_obj.messages})\n",
    "# ai_message = response[\"output\"]\n",
    "\n",
    "# history_obj.add_user_message(human_message)\n",
    "# history_obj.add_ai_message(ai_message)\n",
    "\n",
    "\n",
    "# response.\n",
    "\n",
    "# history_obj.add"
   ]
  },
  {
   "cell_type": "code",
   "execution_count": 36,
   "metadata": {},
   "outputs": [],
   "source": [
    "def call_agent(human_message, chat_history):\n",
    "\n",
    "    response = agent_executor.invoke({\"input\": human_message, \"chat_history\": chat_history.messages})\n",
    "    ai_message = response[\"output\"]\n",
    "    chat_history.add_user_message(human_message)\n",
    "    chat_history.add_ai_message(ai_message)\n",
    "\n",
    "    return response"
   ]
  },
  {
   "cell_type": "code",
   "execution_count": 37,
   "metadata": {},
   "outputs": [
    {
     "name": "stdout",
     "output_type": "stream",
     "text": [
      "\n",
      "\n",
      "\u001b[1m> Entering new AgentExecutor chain...\u001b[0m\n",
      "\u001b[32;1m\u001b[1;3mHello Damian! How can I assist you today?\u001b[0m\n",
      "\n",
      "\u001b[1m> Finished chain.\u001b[0m\n",
      "Hello Damian! How can I assist you today?\n",
      "\n",
      "\n",
      "\u001b[1m> Entering new AgentExecutor chain...\u001b[0m\n",
      "\u001b[32;1m\u001b[1;3mYes, Damian, I remember your name. How can I help you further?\u001b[0m\n",
      "\n",
      "\u001b[1m> Finished chain.\u001b[0m\n",
      "Yes, Damian, I remember your name. How can I help you further?\n"
     ]
    }
   ],
   "source": [
    "human_message = \"hellou mi name is damian\"\n",
    "response = call_agent(human_message, history_obj)\n",
    "print(response[\"output\"])\n",
    "\n",
    "human_message = \"do you remember my name?\"\n",
    "response =  call_agent(human_message, history_obj)\n",
    "print(response[\"output\"])"
   ]
  },
  {
   "cell_type": "code",
   "execution_count": null,
   "metadata": {},
   "outputs": [],
   "source": [
    "human_message = \"Get me a list of research papers on the topic Prompt Compression\"\n",
    "response = call_agent(human_message, history_obj)\n",
    "print(response[\"output\"])"
   ]
  },
  {
   "cell_type": "code",
   "execution_count": null,
   "metadata": {},
   "outputs": [],
   "source": [
    "{\"type\": \"ai\", \"data\": {\"content\": \"I found several research papers on the topic of Prompt Compression. Here are some of the papers with their titles and summaries:\\n\\n1. **PROMPT-SAW: Leveraging Relation-Aware Graphs for Textual Prompt Compression**\\n   - *Authors*: Muhammad Asif Ali, Zhengping Li, Shu Yang, Keyuan Cheng, Yang Cao, Tianhao Huang, Lijie Hu, Lu Yu, Di Wang\\n   - *Published*: 2024-03-30\\n   - *Summary*: This paper introduces PROMPT-SAW, an effective strategy for prompt compression using relation-aware graphs. The compressed prompts generated by PROMPT-SAW outperform baseline models in terms of readability and performance.\\n\\n2. **Say More with Less: Understanding Prompt Learning Behaviors through Gist Compression**\\n   - *Authors*: Xinze Li, Zhenghao Liu, Chenyan Xiong, Shi Yu, Yukun Yan, Shuo Wang, Ge Yu\\n   - *Published*: 2024-02-25\\n   - *Summary*: The Gist-COCO model is proposed for compressing prompts and assisting in prompt interpretation and engineering. It outperforms previous prompt compression models in various tasks.\\n\\n3. **Compress, Then Prompt: Improving Accuracy-Efficiency Trade-off of LLM Inference with Transferable Prompt**\\n   - *Authors*: Zhaozhuo Xu, Zirui Liu, Beidi Chen, Yuxin Tang, Jue Wang, Kaixiong Zhou, Xia Hu, Anshumali Shrivastava\\n   - *Published*: 2023-10-10\\n   - *Summary*: This paper focuses on optimizing the trade-off between accuracy and efficiency by prompting compressed models. The soft prompt learning method proposed enhances the performance of compressed models.\\n\\nThese are just a few of the research papers on Prompt Compression. If you would like more information about any specific paper or more papers on this topic, feel free to let me know!\", \"additional_kwargs\": {}, \"response_metadata\": {}, \"type\": \"ai\", \"name\": null, \"id\": null, \"example\": false, \"tool_calls\": [], \"invalid_tool_calls\": []}}"
   ]
  },
  {
   "cell_type": "code",
   "execution_count": 41,
   "metadata": {},
   "outputs": [
    {
     "name": "stdout",
     "output_type": "stream",
     "text": [
      "\n",
      "\n",
      "\u001b[1m> Entering new AgentExecutor chain...\u001b[0m\n",
      "\u001b[32;1m\u001b[1;3m\n",
      "Invoking: `get_information_from_arxiv` with `{'word': '2203.15916'}`\n",
      "\n",
      "\n",
      "\u001b[0m\u001b[38;5;200m\u001b[1;3m[Document(page_content='Current Implicit Policies May Not Eradicate COVID-19\\nAli Jadbabaiea,b, Arnab Sarkera, and Devavrat Shaha,c\\naInstitute for Data, Systems, and Society, MIT\\nbDepartment of Civil and Environmental Engineering, MIT\\ncDepartment of Electrical Engineering and Computer Science, MIT\\nMarch 2022\\nAbstract\\nSuccessful predictive modeling of epidemics requires an understanding of the implicit feedback control\\nstrategies which are implemented by populations to modulate the spread of contagion. While this task\\nof capturing endogenous behavior can be achieved through intricate modeling assumptions, we ﬁnd that\\na population’s reaction to case counts can be described through a second order aﬃne dynamical system\\nwith linear control which ﬁts well to the data across diﬀerent regions and times throughout the COVID-\\n19 pandemic. The model ﬁts the data well both in and out of sample across the 50 states of the United\\nStates, with comparable R2 scores to state of the art ensemble predictions. In contrast to recent models\\nof epidemics, rather than assuming that individuals directly control the contact rate which governs\\nthe spread of disease, we assume that individuals control the rate at which they vary their number of\\ninteractions, i.e. they control the derivative of the contact rate. We propose an implicit feedback law\\nfor this control input and verify that it correlates with policies taken throughout the pandemic. A key\\ntakeaway of the dynamical model is that the “stable” point of case counts is non-zero, i.e. COVID-19\\nwill not be eradicated under the current collection of policies and strategies, and additional policies are\\nneeded to fully eradicate it quickly. Hence, we suggest alternative implicit policies which focus on making\\ninterventions (such as vaccinations and mobility restrictions) a function of cumulative case counts, for\\nwhich our results suggest a better possibility of eradicating COVID-19.\\n1\\nIntroduction\\nDetermining the optimal policy for regulating an epidemic requires assessing complex infection dynamics\\nacross heterogenous populations. Due to this complexity, simpliﬁed models of epidemic spread are often used\\nin order to develop guidelines and understand the impact of policies on the level of infection. Throughout\\nthe COVID-19 pandemic, a wide range of models have been implemented in order to both provide forecasts\\nfor important time series related to the pandemic as well as estimate causal eﬀects of various policies [5, 15].\\nSuch approaches have been developed since as early as the 19th century, and have been successfully applied\\nto forecast epidemics such as seasonal inﬂuenza, smallpox, and H1N1 [9].\\nHowever, a key distinction between the COVID-19 pandemic and the spread of infectious disease in the\\npast is the extent to which populations have reacted to limit the spread of the virus. As cases have surged,\\ngovernment oﬃcials have instituted lockdowns and mask mandates, individuals have changed their behavior\\nat an unprecedented scale, and the public has received access to mass vaccination. This endogenous response\\nto the state of the pandemic is rarely reﬂected by models developed for previous epidemics, but is critical in\\ndeveloping a robust response to COVID-19 [17, 18]. Even of the models used for COVID-19 death forecasting,\\nonly one explicitly includes an assumption that policy changes as the state of the pandemic worsens [14].\\nThat is not to say that other models do not account for behavior. Rather, the remaining predictive models\\nwhich do account for behavior treat human intervention as an exogenous variable, observed for example\\nthrough mobility data and the presence of government mandates and vaccinations. In this work, we identify\\na model for epidemics where the response to the pandemic is encoded as an endogenous feature which depends\\non the magnitude of cases so far.\\n1\\narXiv:2203.15916v1  [q-bio.PE]  29 Mar 2022\\nFigure 1: US Case counts as modeled by the dynamical system in Eq. (5). We learn the parameters of the\\ncontrol β1 and β2 on the ﬁrst 30 weeks of data, and then they are held constant for the remainder of the\\ndata. One week ahead predictions using this method are shown in orange (in-sample) and green (out of\\nsample), and the true data is shown in blue. For the in-sample time series, the model ﬁts the data with\\nan R2 value of 0.966, and for the out of sample time series, the R2 value is 0.949. In comparison, the 1\\nweek ahead forecasts of state of the art ensemble predictions over the same period is 0.942 [15]. The red\\nline represents a transition to a separate proposed policy which incorporates an integral feedback term, as\\ndiscussed in Rethinking Control for Future Epidemics.\\n1.1\\nModel Description\\nWe begin by considering a general model of the growth phase of an epidemic with a time-varying growth\\nrate, which we show contains several common epidemic models as special cases. We let I(t) represent the\\nnumber of infections in a population at time t, where t is a discrete time index, and use the convention\\nI(0) = 1. Generically, any epidemic process with time-varying growth rate can be written in the following\\nform:\\nI(t + 1) = I(t) × R(t) × η(t) .\\n(1)\\nHere, R(t) represents a generic time-varying parameter which indicates the number of infections that stem\\nfrom each infected individual, and η(t) represents noise in the process, which we assume to come from a log-\\nnormal distribution with parameters µ = 0 and σ2. This choice of distribution for the noise is fundamental\\nto the branching process literature that inspires this type of model and is a natural assumption in this\\nsetting [4].\\nIn this work, we build upon the aforementioned model and assume individuals control the growth rate\\nusing a time-varying parameter ρ(t) ≥0 which represents the proportion of existing ties that each infected\\nindividual will add or remove at time t. Mathematically, we assume R(t) = R(0) × Qt\\nk=1 ρ(k), where R(0)\\nis taken to be a constant value that represents the initial rate of infection. Hence, the open loop dynamics\\nof the system considered in this work take the form\\nI(t + 1) = I(t) × R(0) ×\\nt\\nY\\nk=1\\nρ(k) × η(t) .\\n(2)\\nAlthough equating ρ(t) = R(t)/R(t −1) reveals that the models in Eq. (1) and Eq. (2) are equivalent, we\\nnote that the parameterization of the model in terms of ρ(t) represents a subtle but important distinction\\nfrom models proposed in recent literature: rather than assume the contact rate is a direct function of a\\npopulation’s interventions, here we make the assumption that individuals are instead able to control the\\nrate at which they increase or decrease interactions with one another. In terms of a mechanical analogy\\nto a car, rather than assuming that individuals dictate control of position through a choice of velocity, our\\nmodel assumes that individuals control their position through acceleration, i.e. by pressing on the gas or the\\nbrakes. This parameterization allows us to model the reaction of the population in a novel way, by allowing\\nρ(t) to be a function of previous case counts, as will be shown in Eq. (4).\\n2\\nConnections to Existing Epidemic Models\\nBecause the time series of control parameters ρ(t) is not\\nspeciﬁed in Eq. (2), the model is considered open loop, and we note that natural selections of ρ(t) lead\\nto common epidemic models in the literature. In particular, if ρ(t) = 1 for all t, then the model leads to\\nexponential growth in case counts, which is a commonality across the initial stages of many epidemic models\\n[10].\\nIf ρ(t) = ¯\\nρ for all t, where ¯\\nρ < 1, then Eq. (2) recovers the form of the Gaussian curve noted in Farr’s\\nlaw, which is a common non-mechanistic approach to prediction of an epidemic [8].\\nMoreover, a detailed connection can be made to the standard SIR model. A speciﬁc time-varying choice\\nof ρ(t) can recreate the traditional Susceptible-Infected-Recovered (SIR) model as well as its time-varying\\nextensions [11]. In discrete time, the SIR model consists of the following set of dynamic equations [2]:\\nS(t + 1) −S(t) = −β\\nN S(t)I(t)\\nI(t + 1) −I(t) = β\\nN S(t)I(t) −γI(t)\\nR(t + 1) −R(t) = γI(t) .\\nIn the model, N represents population size, and S(t), I(t) and R(t) represent the parts of the population that\\nare susceptible, infected, and recovered from infection, respectively. In this simpliﬁed model, it is assumed\\nthat for all t, S(t) + I(t) + R(t) = N, and we use the convention that at t = 0 we have I(0) = 1, R(0) = 0,\\nand S(0) = N −1. The parameters β and γ modulate the dynamics of the system, where β measures the\\naverage number of contacts each individual in the population has with others, and 1/γ represents the average\\namount of time that an infectious individual is able to infect others. Such parameters are often allowed to\\nbe time-varying, which ultimately results in infection dynamics of the form\\nI(t + 1) = I(t) ×\\n\\x14\\n1 −γ(t) + β(t)\\nN S(t)\\n\\x15\\n.\\n(3)\\nFor any choice of time-varying γ(t) and β(t), these dynamics are a special case of the model Eq. (2), as we\\nnote in the following proposition, proved in the Supplementary Material.\\nProposition 1. There exists a parameterization of the open loop model in Eq. (2) such that its dynamics\\nare equivalent to the time-varying SIR model in Eq. (3).\\nThe connection to the SIR model reveals that the model in Eq. (2) provides a novel way to represent\\nhow individuals react in a pandemic. Speciﬁcally, we see that the open loop model in Eq. (2) does not\\nexplicitly assume that individuals in a population are adjusting their contact rates or recovery rates. The\\nmodel assumes that people are unaware of the cardinal values that govern the physics of infection dynamics,\\ngiven by a particular value of R(t), and instead control the relative proportion of ties they add or remove\\nfrom their network, which would be equivalent to R(t)/R(t −1).\\nA New Model of Implicit Feedback\\nWe allow the model in Eq. (2) to incorporate implicit feedback\\nby allowing the control parameter to take the following form:\\nlog ρ(t) = β1 × log I(t) +\\nβ2 × (log I(t) −log I(t −1) −log R(0)) + β3 .\\n(4)\\nBehaviorally, Eq. (4) implies that individuals in a population observe case counts through log I(t), and\\nif β1 < 0, which is the case in observed data, then larger magnitude of cases result in more control actions,\\nfor example through increased social distancing or mask adoption. Similarly, individuals react to the recent\\nchange in cases relative to the reproductive rate (log I(t) −log I(t −1) −log R(0)), and when β2 < 0, which\\nis again consistent with empirical observations, then individuals increase the control action if cases are rising\\nquickly. Finally, β3 represents a constant term which indicates an inherent level of reaction by the population.\\nIt is worth noting that if β1 = β2 = β3 = 0, then ρ(k) = 1 in this uncontrolled case and we recover a simple\\nmodel of exponential growth. Moreover, as discussed in the Supplementary Information, this assumption\\n3\\nFigure 2: Comparison of R2 values between the implicit feedback approach in Eq. (5) to ensemble forecasts\\n[15] on each state. The plot shows the number of states for which each method has an R2 at least that of\\nthe value on the x-axis. Calculated R2 values can be found for each state in Table 2 of the Supplementary\\nInformation. Even though the closed model in Eq. (5) only uses 3 parameters learned in a training period,\\nwhereas the ensemble method is aggregated over multiple complex models each week, we ﬁnd that the closed\\nloop model outperforms the ensemble, particularly in the region where R2 > 0.85, as is shown by the blue\\nbars exceeding the orange. In contrast, a ﬁxed parameter SEIR model, which also has three parameters,\\ndoes not achieve positive R2 for one week ahead forecasts on any state in the dataset.\\ncan be viewed as creating a speciﬁc time-varying structure for the time-varying SIR model in Eq. (3). Using\\nstate feedback allows us to write the model into the single closed loop dynamical system as follows.\\nLet X(t) ∈R3 represent the state of a dynamical system where X1(t) = log I(t−1), X2(t) = log I(t), and\\nX3(t) represents the cumulative control taken so far, i.e. X3(t) = Pt\\nk=1 log ρ(k). The closed loop dynamics\\nof the system Eq. (2) under the control policy Eq. (4) are summarized by the following aﬃne dynamical\\nsystem:\\nX(t + 1) = QX(t) + c + η(t) .\\n(5)\\nHere,\\nQ =\\n\\uf8ee\\n\\uf8f0\\n0\\n1\\n0\\n0\\n1\\n1\\n−β2\\nβ1 + β2\\n1\\n\\uf8f9\\n\\uf8fb, and c =\\n\\uf8ee\\n\\uf8f0\\n0\\nlog R(0)\\n−β2 log R(0) + β3\\n\\uf8f9\\n\\uf8fb.\\nGiven the assumption that η(t) in Eq. (2) is log-normal, we see that η(t) can be modeled as unobserved\\nGaussian noise with mean 0 and variance σ2. This closed loop model is extremely simple as it is governed\\nby only three parameters, and can be eﬃciently learned from data [16]. As our results indicate, the model\\nﬁts the data surprisingly well, which suggests that it succinctly describes existing behavior throughout the\\npandemic, and the model has the critical implication that steady state infections are non-zero.\\n1.2\\nSummary of Results\\nWith the above model, in comparing to existing data we see that there is a satisfactory ﬁt to observed data\\nand that the parameters of the implicit feedback correlate with observed policies. Moreover, in our analysis,\\nwe ﬁnd that a major consequence of this model is that weekly cases are never eradicated; rather, for most\\nobserved learned parameters, weekly cases will stabilize at some non-zero level. This has non-trivial policy\\nimplications– in order to eradicate COVID-19 sooner rather than later, populations need to introduce another\\npolicy intervention. For example, by reacting to total case counts since the beginning of the pandemic rather\\nthan the case counts in the last two weeks.\\nFit to Data.\\nOur results indicate the model ﬁts to empirical data surprisingly well, despite having only 3\\nlearned parameters. As a means of comparison, we assess the performance of our model against the ensemble\\n4\\nmethod used by the CDC, which aggregates predictions from at least 30 state of the art forecasting models\\neach week to provide predictions of COVID-19 case counts [15]. In Figure 2, we see that the R2 is comparable\\nto state of the art ensemble predictions across all 50 states, when the method is trained using 65 weeks of data.\\nIn fact, the approach outperforms the CDC point forecasts in 32 states. The implicit feedback approach also\\noutperforms a Susceptible-Exposed-Infected-Recovered (SEIR) model, which similarly has three parameters\\nbut does not achieve a positive R2 score on any state. An example of the one week ahead forecasts can also\\nbe seen in Figure 1, where we see similar results across data for the entire United States. We also show that\\nother similar feedback policies do not ﬁt as well to the data as the simple policy suggested in Eq. (4). This,\\ncombined with the comparison to observed policies noted below, gives additional credence to this choice of\\nmodel.\\nComparison to Observed Policies.\\nIn regressing parameters of the model against policies taken by\\ndiﬀerent populations across the globe, we ﬁnd signiﬁcant correlations between the β1 and β2 parameters\\nwhen compared to mobility data as well as levels of natural immunity measured by the percentage of the\\npopulation which has had a conﬁrmed positive COVID-19 test. This relationship between parameters of the\\nmodel and observed policies taken by populations reinforces the validity of the model and also suggests ways\\nin which the eﬀect of the pandemic may be mitigated which are consistent with the prevailing public health\\nguidance in the United States.\\nImpossibility of Eradication.\\nWe show that there is no selection of β1, β2, and β3 that has been\\nimplemented by states which would result in zero weekly cases. As a result, in order to fully eliminate the\\nCOVID-19 pandemic, populations must alter their implicit strategies and deviate from the dynamical model\\nin Eq. (5). This result is consistent with previous results on the fragility of non-pharmaceutical interventions,\\nwhich suggests that even small measurement errors in the timing of a strategy can produce large increases\\nin case counts [13]. Our results expand on this prior work by incorporating recent data, suggesting that\\neven pharmaceutical interventions such as vaccinations are insuﬃcient to eradicate new COVID-19 cases.\\nFurther, the results presented here are empirical in nature, and highlight properties of implemented policies.\\nWe then conclude by presenting an example of a policy which does result in the eradication of COVID-19\\ncases in theory, and provide steps which suggest a time-varying schedule of vaccinations and stay at home\\norders which would approximate such a policy. Our results suggest that by increasing the intensity of certain\\npolicies by an order of magnitude, COVID-19 cases can be eradicated.\\n2\\nData\\nThe data used in order to learn the parameters of the model is taken from Johns Hopkins [7]. In preprocessing\\nthe data, we assume each time index t represents a full week to remove weekly seasonality. The dataset\\nprovides time series of case data in each state of the United States, as well as for 110 countries, which we\\naggregate weekly to ﬁt the model in Eq. (5). We also use this data to compute estimates of naturalized\\nimmunity, by taking the ratio of conﬁrmed positive tests and each region’s population to get a percentage\\nof individuals who have had COVID-19.\\nIn order to compare the learned parameters to observed policies, we also use data from Google [1], which\\ncompares aggregate mobility trends across individual states and countries compared to pre-pandemic levels.\\n3\\nMethods\\nTo learn the parameters of the implicit control, we focus on identifying the parameters β1, β2, and β3 from\\nEq. (4). To do so, we ﬁrst infer each log ρ(t) from future time steps, as Eq. (2) yields:\\nlog ρ(t) = log I(t + 1) −log I(t) −\\nt−1\\nX\\nk=1\\nlog ρk −log R(0) −log η(t) .\\n5\\nFigure 3: Applying learned parameters across diﬀerent states. We ﬁnd that diﬀerent values of the implicit\\ncontrol policy correspond to dramatically diﬀerent observations in case counts, suggesting that variations in\\nthe control parameters β1, β2, and β3 are meaningful.\\nHence, because log η(t) is mean-zero, we estimate\\nlog ρ0 = log I(t + 1) −log I(t) −log R(0)\\nlog ρ(t) = log I(t + 1) −log I(t) −\\nt−1\\nX\\nk=1\\nlog ρk −log R(0) (t ≥1) .\\nWe estimate R(0) to be equal to 2.5 [12], and hence we are able to infer the values of the dependent\\nvariable log ρ(t). Next, we estimate the regressors on the right hand side of Eq. (5), namely log I(t) and\\nlog I(t)−log I(t−1)−log R(0). We then perform a least-squares regression using the inferred log ρ(t) values\\nand the observed regressors to determine the coeﬃcients β1, β2, and β3. Such an approach of using a least-\\nsquares regressions to learn the parameters of a dynamical system are not uncommon, and many theoretical\\nresults exist showing the consistency and non-asymptotic reliability of such methods [16].\\nWe also provide statistical evidence which shows that the learned β1 and β2 parameters above correlate\\nwith policies taken by individuals during the pandemic. To get an estimate of policies taken during the\\npandemic, we process the Google mobility data, which consists of six mobility measures given as time series\\nfor each geographical region, and take the ﬁrst two principal components of the data, such that for each\\nregion we get two time series. We then average this time series for each region over the time period that the\\npolicies are learned, giving two regressors for each region. Finally, we compute the correlation between the\\nβ1 and β2 parameter and each mobility metric. We then repeat the same procedure replacing the mobility\\nmetrics with the normalized number of cumulative cases in each region up to the end of the training period,\\nwhich we use as a proxy for natural immunity.\\n4\\nResults\\n4.1\\nFit to Observed Data\\nAs shown in Figures 1 and 2, the use of the closed-loop model Eq. (5) ﬁts the data well, with R2 values\\ncomparable to the 1 week ahead CDC ensemble forecasts which aggregate predictions from over 30 state\\nof the art prediction models [15]. It is worth noting that the CDC ensemble forecasts are used solely as\\na baseline to validate that the model in Eq. (5) ﬁts well to the data. In practice, due to delays in the\\ndata collection, the observed values of I(t) at time t are often underestimated, resulting in a small drop in\\npredictive performance when only data available at each particular time is used (Supplementary Information,\\nFigure 14). Although such data ﬁdelity issues can be accounted for, we note that the purpose of this work\\nis to highlight the behavioral implications of this model as opposed to its predictive value.\\nThe learned β1, β2, and β3 parameters are heterogenous between diﬀerent geographic regions, and we ﬁnd\\nthat diﬀerent parameters of implicit control result in diﬀerent implications for the pandemic. The 50 states\\n6\\nFigure 4: Computed steady state case counts per capita for each state, based on the learned parameters of\\nthe implicit control policy. These values have a 0.564 correlation with the actual mean weekly case counts\\nper capita in each state (p < 10−4), supporting the validity of the model Eq. (5) and suggesting particular\\ngeographic regions to focus on adjusting implicit control.\\nin the US provide insight into the diﬀerent values of β1 and β2 and their importance in understanding the\\ndiﬀerent forms of control that are being implicitly used by diﬀerent states throughout the pandemic. The\\nlearned β1 and β2 parameters from each of the 50 states are shown in Figure 5, and it is clear that there is\\nheterogeneity in the learned values.\\nThe diﬀerences in these learned values are signiﬁcant as far as their eﬀects on prediction, as we can not\\nsimply take one state’s parameters and use this information to predict for a diﬀerent state (Figure 3). While\\nthere are clusters of states with similar parameters, it is clear that the speciﬁc values of parameters is still\\nimportant in terms of generating valid predictions and explaining behavior.\\nThe learned β1, β2, and β3 parameters can also be used in order to understand the heterogeneity in each\\nstate’s implicit control policies. When the matrix Q is stable in Eq. (5), we can compute the steady state\\nnumber of cases limt→∞X2(t). We report the per capita results in Figure 4. This steady state value provides\\ninsight on how diﬀerent states handled the pandemic in terms of the ability to eﬃciently bring case counts\\ntowards 0. In particular, larger steady state values seem to suggest relaxed policies in controlling pandemic.\\nIt is worth noting that this is a compounded impact of government policies, population behavior and other\\ncircumstances (e.g. weather, industry, etc.). However, it is a deﬁnitive way to “evaluate” the compounded\\neﬀect across states which may be of interest in its own right.\\n4.2\\nRelationship to Observed Policies\\nOur results indicate that both β1 and β2 correlate with observed policies taken throughout the pandemic.\\nIn comparing the learned parameters of all 50 states as well as 110 countries to observed mobility patterns,\\nwe ﬁnd statistically signiﬁcant correlations (Supplementary Information, Table 3). Moreover, we also see\\nsigniﬁcant correlations with respect to the proportion of the population that has become immune during\\nthe training period. This suggests a relationship between learned parameters and the proportion of the\\npopulation which is no longer susceptible to the disease. In fact, a similar relationship can be shown between\\nβ1 and vaccination rates across the United States; however, the statistical evidence only suggests a correlation\\nas the parameters are learned from the initial stages of the pandemic, so a causal relationship can not be\\nmade (Supplementary Information, Table 4).\\n7\\nFigure 5: Coeﬃcients of the implicit control used by the 50 US states. We ﬁnd that states with low magnitude\\nof β2 and high magnitude of β1 have a higher magnitude of steady state cases, highlighting a need for adjusted\\nimplicit policies in states such as South Dakota, Wyoming, and North Dakota.\\n4.3\\nComparisons to Other Feedback Models\\nWhile the model ﬁts to empirical data suggest that the model is consistent with observations, and the\\nparameters do correlate with observed policies, such results cannot deﬁnitively prove that the model as-\\nsumptions are representative of reality. Here, we compare our model to other plausible hypotheses in order\\nto understand the value and limitations of this simple approach.\\nBecause the results until now have provided one week ahead forecasts, and hence are dependent on most\\nrecent actual observations, it is also important to compare against a case in which these recent observations\\nare estimated.\\nIn control theory, an observer is used for this task [3].\\nWhen implementing the system\\nwith an observer as opposed to true data on the US case counts, we ﬁnd that our predictions are still very\\nclose to when the original data is used, with nearly equivalent R2 values. This approach also provides a\\nway to produce k-week ahead forecasts for k > 1, and we ﬁnd that short term forecasts which predict 1\\nor 2 weeks ahead are comparable to the CDC ensemble, whereas longer term forecasts deteriorate rapidly\\n(Supplementary Information, Figure 12).\\nWe also compare this model to a simple, one-dimensional Proportional-Integral-Derivative (PID) con-\\ntroller, since PID control is nearly ubiquitous in control applications [6]. In this comparison, we ﬁnd that\\nthe PID controller requires more data in order to eﬀectively learn appropriate parameters, and that it does\\nnot explain the data as well as the closed-loop system in Eq. (5) (Supplementary Information, Figure 10).\\nHence, although PID control is omnipresent in engineering applications, it is not representative of the actual\\nbehavior observed throughout the pandemic.\\nFinally, we compare against several models for which diﬀerent sets of regressors are used in estimating\\nlog ρt, in order to understand the diﬀerent implications of each approach (Figure 7). Our results indicate\\nthat our proposed feedback law in Eq. (4) provides the best explanation of log ρt across the 50 states. It\\nis also important to note that the use of Pt\\nk=1 log I(t) as a regressor for log ρt does not improve prediction\\nperformance, and that the coeﬃcient of Pt\\nk=1 log I(t) is never signiﬁcantly away from 0 across all 50 states\\nand countries considered. This observation indicates at least one way in which policy changes can be modiﬁed\\nto eradicate COVID-19 cases, and will be discussed further in Rethinking Control for Future Epidemics where\\nwe discuss the policy implications of our results.\\n8\\n(a) Simulated policy with control consistent with pop-\\nulation behavior (Eq. (4))\\n(b) Simulated policy with an added integral term\\n(Eq. (6))\\nFigure 6: (a) Diﬀerent choices of β1 and β2 for the system in Eq. (5). This simulated system begins with\\nan initial exponential growth (blue) followed by case counts when the control policy enacted (orange). We\\nﬁnd that as β1 becomes closer to 0, the system becomes increasingly unstable and prone to exponential\\ngrowth. As β2 decreases away from 0 with ﬁxed β1, we see that the system becomes more oscillatory and\\nlikely to become unstable as well. Moreover, across all selection of parameters, even when the system is such\\nthat Q is stable, we see that the steady state number of cases is non-zero. (b) Adding an integrator term\\nβS\\nPt\\nk=1 X(k) to the implementation of the control input log ρt. The simulated system again begins with\\nan initial exponential growth (blue) followed by case counts when the control policy enacted (orange). The\\nintegral term stabilizes the system and brings weekly case counts towards an equilibrium with no weekly\\ncases, although in practice we ﬁnd that no country has a statistically signiﬁcant non-zero βS term in its\\ncontrol policy.\\n4.4\\nProperties of the Implicit Feedback Control\\nThe impact of the parameters which govern the implicit feedback control is summarized in Figure 6a. Figure\\n6a indicates that there is a complex relationship between the values of β1 and β2 and the resulting case\\ncounts. Namely, increases in β2 often result in oscillatory behavior, but still depend on the value of β1.\\nThese plots reﬂect that an equilibrium for this type of control strategy occurs at a non-zero but constant\\nsteady state of weekly cases. Stated diﬀerently, the equilibrium of this approach suggests that behavior\\neventually results in an instantaneous reproductive rate of 1. This reinforces that the system is sensitive to\\nthe selection of β1 and β2, and our results indicate that β1 and β2 can be learned from data and ﬁt the data\\nsurprisingly well (Figure 1).\\n4.5\\nRethinking Control for Future Epidemics\\nPrinciples of control dictate that when Eq. (2) has a multiplicative factor of R(0) > 1, the system generated\\nwhen taking logarithms of Eq. (2) can be driven to 0 weekly cases using a feedback law known as a double\\nintegrator. That is, rather than the system dynamics being governed by the form of log ρt described in\\nEq. (4), a suitable control would take the form\\nlog ρ(t) = β1 × log I(t) +\\nβ2 × (log I(t) −log I(t −1) −log R(0)) +\\nβ3 + βS ×\\nt\\nX\\nk=1\\nlog I(t) ,\\n(6)\\nwhere Pt\\nk=1 log I(t) represents an integral feedback control. On synthetic data, the eﬀect of this integrator\\nterm βS\\nPt\\nk=1 log I(t) is clear, as it drives weekly case counts to 0 (Figure 6b). This additional term forces the\\nweekly reaction of the community to the pandemic to go from being a proportional derivative (PD) control\\nin Eq. (4) to a proportional-integral-derivative (PID) control, which provides the necessary integration of\\nerror which eventually results in a steady state of 0 weekly cases.\\n9\\nFigure 7: Boxplot of R2 scores of the 50 US states when diﬀerent regressors are used to determine log ρt. We\\nﬁnd that the choice of regressors in Eq. (4) provides the best ﬁt to the data overall, suggesting that the three\\nparameter control input ﬁts suﬃciently well across heterogenous regions. Moreover, including a regression\\nterm on Pt\\nk=1 log I(t), as is proposed in Eq. (6) does not result in an improved ﬁt to the data, suggesting\\nthat this particular policy which would eradicate COVID-19 cases is not being implemented by populations.\\nKey policy implication. Ultimately, this suggests that the cumulative costs of the pandemic should be\\nemphasized, even when the current state of the pandemic has a low number of cases. When the implemented\\ncontrol has little memory of the past, we can not expect cases to decay towards 0. The policy implication\\nhere is implicit, rather than explicit, in the sense that the current policy interventions being used, such\\nas stay at home orders, mask mandates, and vaccination development, are still suggested by this model.\\nHowever, rather than implementing these policies a function of recent cases, the model suggests they should\\nbe implemented and intensiﬁed according to cumulative case counts. Moreover, because the suggestion is\\nimplicit in behavior, the model also calls for individuals in a population to adopt a slightly diﬀerent latent\\napproach that reduces contacts as a function of cumulative case counts as opposed to recent ones.\\nWhile there are many ways integral feedback can be implemented in practice, we highlight one possible\\npolicy which can be taken by adapting the existing policy in Eq. (4) using time-varying parameters. In\\nFigure 8, we show that the integral policy suggested Figure 1 can be replicated by allowing β1 and β2 to\\nbe time-varying. Moreover, since we have shown that β1 and β2 relate linearly to observed policies such as\\nvaccination rates and mobility above (Supplementary Information, Figure 13), this suggests that using time-\\nvarying policies can recreate an integral feedback policy. Speciﬁcally, in the United States we ﬁnd that β1\\nrelates collinearly with vaccination rates, and that β2 related collinearly with percentage of time individuals\\nspend at home. Using these policy levers in a way that is consistent with Figure 8 would eﬀectively replicate\\nan integral feedback policy over time. Because the values of β1 in Figure 8 are approximately ten times\\nlarger in magnitude than those learned across the 50 states, the analysis suggest that any appropriate policy\\nwould require that interventions would need to be increased by an order of magnitude in order to eradicate\\nCOVID-19 cases.\\n5\\nDiscussion\\nWe provide a dynamical model to represent the trajectory of cases in an epidemic, and show that COVID-19\\ncases are well explained by a control strategy which only depends on three parameters. The result is based\\non a robust estimation procedure, and all learned parameters are non-zero in a statistically signiﬁcant sense.\\nWhile the results are strong, we note that the simplicity of the model and its implicit nature do have\\nsome drawbacks, as it is diﬃcult to capture the known properties of the disease in this model. For example,\\nthe assumption that cases in week t+1 are driven by the cases in week t does not explicitly take into account\\n10\\nFigure 8: Example of recreating the integral feedback policy of the red line in Figure 1 using time-varying\\nβ1 and β2 to replicate the eﬀect of an integral feedback term. By steadily increasing vaccination adoption\\naccording to the blue line presented above, and using stay at home orders to replicate the orange line, policy\\nmakers can eﬀectively replicate an integral feedback policy.\\npossible delays in testing procedures and the amount of time it takes for an exposed individual to test\\npositive. However, since we do ﬁnd that the model is suﬃcient to explain variation in the data and provides\\na rigorous data-driven approach to estimation by making such simplifying assumptions, we believe there is\\nvalue in modeling epidemic dynamics using this approach. In future work, we aim to better understand the\\ndeterminants of this endogeneity, to understand why community responses to the pandemic can be easily\\nexplained by this low dimensional model. Such work would also be aimed at adapting this model for longer\\nterm predictions, as feedback is important in understanding long term trends of infectious disease [14]. As\\nwe move towards data-driven control of epidemics, our hope is to utilize this endogeneity so that policy can\\nbe designed optimally.\\nUltimately, these results have important implications for the development of control strategies against\\ninfectious disease in the future. While the strategy that ﬁts the data well does not result in an eradication of\\nCOVID-19 cases, augmenting the implicit control with a term proportional to the sum of previous case counts\\nwould eventually eradicate new cases. This suggests that policy makers should emphasize the cumulative\\ncosts of the pandemic when communicating with the public, even when current cases are low.\\nReferences\\n[1] Ahmet Aktay, Shailesh Bavadekar, Gwen Cossoul, John Davis, Damien Desfontaines, Alex Fabrikant,\\nEvgeniy Gabrilovich, Krishna Gadepalli, Bryant Gipson, Miguel Guevara, et al. Google covid-19 com-\\nmunity mobility reports: anonymization process description (version 1.1). 2020.\\n[2] Linda JS Allen. Some discrete-time si, sir, and sis epidemic models. Mathematical biosciences, 124(1):83–\\n105, 1994.\\n[3] Karl Johan ˚\\nAstr¨\\nom and Richard M Murray. Feedback systems. Princeton university press, 2010.\\n[4] Krishna B Athreya and Peter E Ney. Branching Processes. Springer, 1972.\\n[5] Victor Chernozhukov, Hiroyuki Kasahara, and Paul Schrimpf. Causal impact of masks, policies, behavior\\non early covid-19 pandemic in the us. Journal of Econometrics, 220(1):23–62, 2021.\\n[6] Lane Desborough and Randy Miller.\\nIncreasing customer value of industrial control performance\\nmonitoring-honeywell’s experience.\\nIn AIChE symposium series, number 326, pages 169–189. New\\nYork; American Institute of Chemical Engineers; 1998, 2002.\\n11\\n[7] Ensheng Dong, Hongru Du, and Lauren Gardner. An interactive web-based dashboard to track covid-19\\nin real time. The Lancet infectious diseases, 20(5):533–534, 2020.\\n[8] William Farr. Progress of epidemics. pages 16–20, 1840.\\n[9] Nicholas C Grassly and Christophe Fraser. Mathematical models of infectious disease transmission.\\nNature Reviews Microbiology, 6(6):477–487, 2008.\\n[10] Herbert W Hethcote. The mathematics of infectious diseases. SIAM review, 42(4):599–653, 2000.\\n[11] William Ogilvy Kermack and Anderson G McKendrick. A contribution to the mathematical theory of\\nepidemics. Proceedings of the royal society of london. Series A, Containing papers of a mathematical\\nand physical character, 115(772):700–721, 1927.\\n[12] Kevin Linka, Mathias Peirlinck, and Ellen Kuhl. The reproduction number of covid-19 and its correlation\\nwith public health interventions. Computational Mechanics, 66(4):1035–1050, 2020.\\n[13] Dylan H Morris, Fernando W Rossine, Joshua B Plotkin, and Simon A Levin. Optimal, near-optimal,\\nand robust epidemic control. Communications Physics, 4(1):1–8, 2021.\\n[14] Hazhir Rahmandad and Tse Yang Lim. Risk-driven responses to covid-19 eliminate the tradeoﬀbetween\\nlives and livelihoods. Available at SSRN 3747254, 2020.\\n[15] Evan L Ray, Nutcha Wattanachit, Jarad Niemi, Abdul Hannan Kanji, Katie House, Estee Y Cramer,\\nJohannes Bracher, Andrew Zheng, Teresa K Yamana, Xinyue Xiong, et al.\\nEnsemble forecasts of\\ncoronavirus disease 2019 (covid-19) in the us. Cold Spring Harbor Laboratory Press, 2020.\\n[16] Tuhin Sarkar and Alexander Rakhlin. Near optimal ﬁnite time identiﬁcation of arbitrary linear dynam-\\nical systems. In International Conference on Machine Learning, pages 5610–5618. PMLR, 2019.\\n[17] Greg Stewart, Klaskevan Heusden, and Guy A Dumont. How control theory can help us control covid-19.\\nIEEE Spectrum, 57(6):22–29, 2020.\\n[18] Klaske Van Heusden, Greg Stewart, Sarah P Otto, and Guy A Dumont. Pandemic policy design via\\nfeedback: A modelling study. Available at SSRN 3928502, 2021.\\n12\\nSupplementary Information\\nA\\nProof of Proposition 1\\nProof. First, note that for the two models to be equivalent, we must take the noise parameter in Eq. (2) to\\nbe a constant, i.e. σ2 = 0. We then construct the parameterization as follows: For arbitrary but particular\\ntime series β(t) and γ(t), ﬁrst deﬁne\\nRSIR(t) = 1 −γ(t) + β(t)\\nN S(t) .\\nThen, for\\nR(0) = RSIR(0) ,\\nand\\n∀t ≥1, ρ(t) =\\nRSIR(t)\\nRSIR(t −1) ,\\n,\\nthe model in Eq. (2) is equivalent to the time-varying SIR model in Eq. (3).\\nB\\nConnection Between the Closed Loop Model and Time-Varying\\nSIR Model\\nWe note there is a connection between the SIR model in Eq. (3) and the closed loop model in Eq. (5) in\\nthe sense that Eq. (4) implies a particular structure for the time-varying parameters in Eq. (3). Speciﬁcally,\\nwe see that from Eq. (4),\\nρ(t) = I(t)β1\\n\\x12\\nI(t)\\nI(t −1)\\n\\x13β2\\nR(0)−β2eβ3 .\\n(7)\\nFurthermore, from the above proof of Proposition 1, we see that the open loop model and the time-varying\\nSIR model are equivalent so long as\\nρ(t) =\\nN −Nγ(t) + β(t)S(t)\\nN −Nγ(t −1) + β(t −1)S(t −1) .\\n(8)\\nEquating these two representations of ρ(t), we ﬁnd that if γ(t) and β(t) obey\\n\\x12\\nγ(t)\\nγ(t −1)\\n\\x13 \\uf8eb\\n\\uf8ed\\nN+β(t)S(t)\\nγ(t)\\n−N\\nN+β(t−1)S(t−1)\\nγ(t−1)\\n−N\\n\\uf8f6\\n\\uf8f8= I(t)β1\\n\\x12\\nI(t)\\nI(t −1)\\n\\x13β2\\nR(0)−β2eβ3 ,\\n(9)\\nwhich can be done by equating terms of the product with one another, then the two models can be equivalent.\\nFor example, if for all t ≥1,\\nγ(t)\\nγ(t −1) = I(t)β1eβ3 ,\\nand\\nN−β(t)S(t)\\nγ(t)\\n−N\\nN−β(t−1)S(t−1)\\nγ(t−1)\\n−N\\n=\\n\\x12\\nI(t)\\nI(t −1)\\n\\x13β2\\nR(0)−β2 ,\\n(10)\\nthen we see a speciﬁc choice of β(t) and γ(t) can be imposed by the closed loop model in Eq. (5). Speciﬁcally,\\nthis particular choice would result in\\nγ(t) =\\n t−1\\nY\\nk=1\\nI(k)\\n!β1\\netβ3γ(0) ,\\nand\\nβ(t) =\\n \\nN −γ(t)\\n \\x12\\nI(t)\\nI(t −1)\\n\\x13β2\\nR(0)−β2\\n\\x12N −β(t −1)S(t −1)\\nγ(t −1)\\n−N\\n\\x13\\n+ N\\n!!\\n/S(t) .\\nThat is, one possible interpretation of the implicit feedback policy is that the magnitude of γ(t) increases as\\nthe cumulative product of cases increases, and that β(t) is inversely proportional to the remaining susceptible\\npopulation and is a complex function of recovery rates γ(t) and the rate of change of cases I(t)/I(t −1).\\n13\\nC\\nAdditional Figures\\nFigure 9: Case counts of US states as modeled by the dynamical system. One week ahead predictions using\\nthis method are shown in orange (in sample) and green (out of sample), and the true data is shown in\\nblue. We ﬁnd that using data from roughly the ﬁrst year of the pandemic results in surprisingly accurate\\nperformance on later data.\\n14\\n(a) PID controller learned with data from the ﬁrst wave of\\nthe COVID-19 pandemic in the United States.\\n(b) PID controller learned with data from the ﬁrst two\\nwaves of the COVID-19 pandemic in the United States.\\nFigure 10: Implementation of a PID controller learned using the single state X(t) = log I(t) (i.e., X2(t) in\\nEq. (5)). The PID controller has the form u(t) = kP X(t) + kI\\nPt\\nτ=1 X(τ) + kD(X(t) −X(t −1)), and we\\nassume the system has the form X(t + 1) = X(t) + u(t). Learning for the ﬁrst two waves results in an out of\\nsample R2 value of 0.085, and from the ﬁrst three waves results in R2 = 0.81, compared to an R2 of 0.905\\nusing the model in Eq. (5) trained on the ﬁrst two waves of data, implying that the PID method requires\\nmore data to provide a worse explanation out of sample. This suggests the model in Eq. (5) provides a\\nbetter ﬁt to the data.\\n15\\n(a) Predictions using statistical estimates.\\n(b) Predictions using estimates from an observer system.\\nk\\n1\\n2\\n3\\n4\\nStatistical Estimates\\n0.949\\n0.607\\n0.267\\n-1.562\\nObserver System\\n0.949\\n0.607\\n0.267\\n-1.562\\nCDC Baseline\\n0.942\\n0.861\\n0.765\\n0.648\\nTable 1: r2 Comparison of k-week ahead forecasts\\nFigure 12: k-week ahead forecasts using the system in Eq. (5) using statistical estimates (a) or an observer\\nmodel (b) which uses an estimate of X1(t). For statistical estimates, future values of X1(t) are estimated\\nthrough feeding back estimates into Eq. (5), and for the observer system a parallel system is used. We ﬁnd\\nthat using the observer system results in the same performance compared to the statistical method, and that\\nthe closed loop method works best in the short term for 1 to 2 week ahead predictions.\\n16\\nFigure 13: Comparison of learned β1 parameters in each state to observed vaccination rates from https:\\n//github.com/owid/covid-19-data, where each point represents a state and the orange line is the line of\\nbest ﬁt. We see that higher vaccination rates correspond to larger magnitudes of the β1 parameter.\\nFigure 14: Forecasts of United States COVID-19 Cases using data available at each date. Because case data\\nis adjusted after the fact, we ﬁnd that using data available at each date results in a small deterioration in\\nprediction performance, with an out of sample R2 score of 0.901 as opposed to 0.948 using data as of March\\n2022.\\n17\\nState\\nR2 of Implicit Feedback Predictions\\nR2 of CDC Forecasts\\nR2 of SEIR Model\\nAlabama\\n0.761268\\n0.870218\\n-7.466713\\nAlaska\\n0.895081\\n0.860655\\n-6.097458\\nArizona\\n0.948373\\n0.912740\\n-16.846574\\nArkansas\\n0.919352\\n0.904562\\n-5.102133\\nCalifornia\\n0.846362\\n0.815874\\n-38.857268\\nColorado\\n0.912670\\n0.928491\\n-17.163285\\nConnecticut\\n0.787693\\n0.770680\\n-13.130171\\nDelaware\\n0.901341\\n0.960540\\n-23.524277\\nFlorida\\n0.984187\\n0.934497\\n-16.086748\\nGeorgia\\n0.967953\\n0.951781\\n-29.483336\\nHawaii\\n0.910708\\n0.919715\\n-3.725094\\nIdaho\\n0.936136\\n0.919588\\n-86.226929\\nIllinois\\n0.923297\\n0.902908\\n-25.749134\\nIndiana\\n0.902190\\n0.925885\\n-61.444810\\nIowa\\n0.813681\\n0.777314\\n-8.914433\\nKansas\\n0.930767\\n0.851023\\n-8.554606\\nKentucky\\n0.961193\\n0.927413\\n-4.442309\\nLouisiana\\n0.895427\\n0.894736\\n-25.563110\\nMaine\\n0.854193\\n0.871618\\n-13.050083\\nMaryland\\n0.941903\\n0.949353\\n-29.439844\\nMassachusetts\\n0.920278\\n0.905620\\n-12.569417\\nMichigan\\n0.937189\\n0.953322\\n-20.089249\\nMinnesota\\n0.876778\\n0.852998\\n-8.951495\\nMississippi\\n0.931766\\n0.887371\\n-5.910868\\nMissouri\\n0.952072\\n0.903154\\n-12.156490\\nMontana\\n0.956009\\n0.956591\\n-3.621835\\nNebraska\\n0.648975\\n0.606238\\n-16.876655\\nNevada\\n0.786819\\n0.794385\\n-32.207349\\nNew Hampshire\\n0.337766\\n0.012839\\n-32.442966\\nNew Jersey\\n0.913044\\n0.947180\\n-7.806754\\nNew Mexico\\n0.918922\\n0.858679\\n-12.438151\\nNew York\\n0.948178\\n0.925340\\n-8.925778\\nNorth Carolina\\n0.892444\\n0.908425\\n-7.784810\\nNorth Dakota\\n0.969735\\n0.964937\\n-3.343721\\nOhio\\n0.965163\\n0.950134\\n-19.912066\\nOklahoma\\n0.957803\\n0.922573\\n-7.961322\\nOregon\\n0.949682\\n0.935502\\n-2.391805\\nPennsylvania\\n0.937376\\n0.950664\\n-20.954253\\nRhode Island\\n0.756697\\n0.821439\\n-17.282322\\nSouth Carolina\\n0.905781\\n0.915286\\n-9.553737\\nSouth Dakota\\n0.929809\\n0.936414\\n-13.868844\\nTennessee\\n0.935708\\n0.920788\\n-41.321343\\nTexas\\n0.884807\\n0.915912\\n-10.169516\\nUtah\\n0.945423\\n0.865068\\n-16.726585\\nVermont\\n0.832917\\n0.819457\\n-45.831707\\nVirginia\\n0.956532\\n0.954946\\n-16.765430\\nWashington\\n0.847929\\n0.893503\\n-5.760364\\nWest Virginia\\n0.957164\\n0.947691\\n-2.813714\\nWisconsin\\n0.897933\\n0.870112\\n-12.464855\\nWyoming\\n0.924037\\n0.919302\\n-9.180029\\nMean\\n0.891370\\n0.877309\\nTable 2: r2 metric of 1 week ahead forecasts using the implict feedback approach summarized in Eq. (5) com-\\npared to the r2 scores of 1 week ahead forecasts from a state of the art ensemble model [15] and a simple\\nSEIR model [10].\\n18\\nDependent Variable\\nIndependent Variable\\nCoeﬃcient Value\\np-value\\nNull Hypothesis\\nRejected\\nβ2\\nMobility Component 2\\n0.006\\n< 0.001\\n✓\\nβ2\\nNatural Immunity (%)\\n16.852\\n< 0.001\\n✓\\nβ2\\nMobility Component 1\\n0.002\\n< 0.001\\n✓\\nβ1\\nMobility Component 2\\n0.001\\n0.001\\n✓\\nβ1\\nNatural Immunity (%)\\n5.233\\n0.001\\n✓\\nβ1\\nMobility Component 1\\n0.000\\n0.443\\nTable 3: Hypothesis tests comparing diﬀerent policies to learned β1 and β2 values across both US states\\nand countries around the globe. Across heterogeneous regions, we ﬁnd that β1 and β2 tend to correlate\\nsigniﬁcantly with observed measures such as mobility and the level of natural immunity.\\nDependent Variable\\nIndependent Variable\\nCoeﬃcient Value\\np-value\\nNull Hypothesis\\nRejected\\nβ1\\nVaccination Rate (%)\\n-0.004\\n< 0.001\\n✓\\nβ1\\nMobility Component 2\\n-0.000\\n0.004\\n✓\\nβ1\\nMean Distance Traveled From Home\\n-0.028\\n0.007\\n✓\\nβ2\\nMedian Percentage Time Home\\n0.016\\n0.018\\n✓\\nβ2\\nMean Distance Traveled From Home\\n-0.210\\n0.044\\nβ2\\nMobility Component 1\\n-0.001\\n0.056\\nβ1\\nMedian Time Spent Away From Home\\n0.000\\n0.064\\nβ2\\nVaccination Rate (%)\\n-0.019\\n0.073\\nβ1\\nMask Mandate\\n-0.017\\n0.079\\nβ2\\nNatural Immunity (%)\\n7.116\\n0.128\\nβ2\\nMobility Component 2\\n0.002\\n0.184\\nβ1\\nNatural Immunity (%)\\n0.608\\n0.210\\nβ2\\nMask Mandate\\n-0.057\\n0.550\\nβ2\\nMedian Time Spent Away From Home\\n-0.001\\n0.582\\nβ1\\nMedian Percentage Time Home\\n-0.000\\n0.853\\nβ1\\nMobility Component 1\\n-0.000\\n0.962\\nTable 4: Hypothesis tests comparing diﬀerent policies to learned β1 and β2 values in the United States only.\\nWe ﬁnd that β1 correlates with vaccination rates in each state as well as mobility, and that β2 correlates\\nwith mobility metrics. Here, vaccination data is taken from https://github.com/owid/covid-19-data and\\nmobility auxiliary mobility data is taken from SafeGraph (“Median Time Spent Away From Home,” “Mean\\nDistance Traveled From Home,” , “Median Percentage Time Home”) and Google (Mobility Components 1\\nand 2, which are principal components of the 6 mobility metrics provided by Google).\\n19\\n', metadata={'Published': '2022-03-29', 'Title': 'Current Implicit Policies May Not Eradicate COVID-19', 'Authors': 'Ali Jadbabaie, Arnab Sarker, Devavrat Shah', 'Summary': 'Successful predictive modeling of epidemics requires an understanding of the\\nimplicit feedback control strategies which are implemented by populations to\\nmodulate the spread of contagion. While this task of capturing endogenous\\nbehavior can be achieved through intricate modeling assumptions, we find that a\\npopulation\\'s reaction to case counts can be described through a second order\\naffine dynamical system with linear control which fits well to the data across\\ndifferent regions and times throughout the COVID-19 pandemic. The model fits\\nthe data well both in and out of sample across the 50 states of the United\\nStates, with comparable $R^2$ scores to state of the art ensemble predictions.\\nIn contrast to recent models of epidemics, rather than assuming that\\nindividuals directly control the contact rate which governs the spread of\\ndisease, we assume that individuals control the rate at which they vary their\\nnumber of interactions, i.e. they control the derivative of the contact rate.\\nWe propose an implicit feedback law for this control input and verify that it\\ncorrelates with policies taken throughout the pandemic. A key takeaway of the\\ndynamical model is that the \"stable\" point of case counts is non-zero, i.e.\\nCOVID-19 will not be eradicated under the current collection of policies and\\nstrategies, and additional policies are needed to fully eradicate it quickly.\\nHence, we suggest alternative implicit policies which focus on making\\ninterventions (such as vaccinations and mobility restrictions) a function of\\ncumulative case counts, for which our results suggest a better possibility of\\neradicating COVID-19.'})]\u001b[0m\u001b[32;1m\u001b[1;3mHere is the abstract of the research paper titled \"Current Implicit Policies May Not Eradicate COVID-19\":\n",
      "\n",
      "Successful predictive modeling of epidemics requires an understanding of the implicit feedback control strategies implemented by populations to modulate the spread of contagion. This study presents a second-order affine dynamical system with linear control that accurately describes how populations react to case counts during the COVID-19 pandemic. The model fits well in and out of sample across the 50 states of the United States, with comparable R2 scores to state-of-the-art ensemble predictions. Unlike previous epidemic models, this model assumes individuals control the rate at which they vary their interactions, rather than directly controlling the contact rate. The key finding is that the stable point of case counts is non-zero, indicating that COVID-19 will not be eradicated under current policies. The study suggests alternative implicit policies that tie interventions like vaccinations and mobility restrictions to cumulative case counts for a better chance of eradicating COVID-19 efficiently.\n",
      "\n",
      "If you need more details or have any other questions, feel free to ask!\u001b[0m\n",
      "\n",
      "\u001b[1m> Finished chain.\u001b[0m\n",
      "Here is the abstract of the research paper titled \"Current Implicit Policies May Not Eradicate COVID-19\":\n",
      "\n",
      "Successful predictive modeling of epidemics requires an understanding of the implicit feedback control strategies implemented by populations to modulate the spread of contagion. This study presents a second-order affine dynamical system with linear control that accurately describes how populations react to case counts during the COVID-19 pandemic. The model fits well in and out of sample across the 50 states of the United States, with comparable R2 scores to state-of-the-art ensemble predictions. Unlike previous epidemic models, this model assumes individuals control the rate at which they vary their interactions, rather than directly controlling the contact rate. The key finding is that the stable point of case counts is non-zero, indicating that COVID-19 will not be eradicated under current policies. The study suggests alternative implicit policies that tie interventions like vaccinations and mobility restrictions to cumulative case counts for a better chance of eradicating COVID-19 efficiently.\n",
      "\n",
      "If you need more details or have any other questions, feel free to ask!\n"
     ]
    }
   ],
   "source": [
    "human_message = \"Get me the abstract of the first paper you found\"\n",
    "response = call_agent(human_message, history_obj)\n",
    "print(response[\"output\"])"
   ]
  },
  {
   "cell_type": "code",
   "execution_count": null,
   "metadata": {},
   "outputs": [],
   "source": [
    "# agent_executor.invoke({\"input\": \"do you know my name?\"})"
   ]
  },
  {
   "cell_type": "code",
   "execution_count": null,
   "metadata": {},
   "outputs": [],
   "source": [
    "# agent_executor.invoke({\"input\": \"Get me a list of research papers on the topic Prompt Compression\"})"
   ]
  },
  {
   "cell_type": "code",
   "execution_count": null,
   "metadata": {},
   "outputs": [],
   "source": [
    "# response = agent_executor.invoke({\"input\":\"Get me the abstract of the first paper you found\"})\n",
    "# response"
   ]
  }
 ],
 "metadata": {
  "kernelspec": {
   "display_name": "myenv",
   "language": "python",
   "name": "python3"
  },
  "language_info": {
   "codemirror_mode": {
    "name": "ipython",
    "version": 3
   },
   "file_extension": ".py",
   "mimetype": "text/x-python",
   "name": "python",
   "nbconvert_exporter": "python",
   "pygments_lexer": "ipython3",
   "version": "3.10.9"
  }
 },
 "nbformat": 4,
 "nbformat_minor": 2
}
